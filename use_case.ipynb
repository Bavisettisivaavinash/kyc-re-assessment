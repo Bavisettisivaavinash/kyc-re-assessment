{
 "cells": [
  {
   "cell_type": "code",
   "execution_count": null,
   "id": "ed1c2181-2c59-4bda-be9e-f3265cab5877",
   "metadata": {},
   "outputs": [],
   "source": [
    "import findspark\n",
    "findspark.init()\n",
    "print(findspark.find())"
   ]
  },
  {
   "cell_type": "code",
   "execution_count": null,
   "id": "dae2ba24-5904-42b6-81e4-16af89fa70ae",
   "metadata": {},
   "outputs": [],
   "source": [
    "from pyspark.sql import SparkSession\n",
    "from pyspark.sql.functions import *\n",
    "from pyspark.sql.types import *\n",
    "from difflib import SequenceMatcher"
   ]
  },
  {
   "cell_type": "code",
   "execution_count": null,
   "id": "2e49e789-0759-475d-a72f-3aba1d2e7a1b",
   "metadata": {},
   "outputs": [],
   "source": [
    "# Initialize Spark session\n",
    "spark = SparkSession.builder.appName(\"KYCDataMatching\").getOrCreate()"
   ]
  },
  {
   "cell_type": "code",
   "execution_count": null,
   "id": "e4f69188-b52f-4f5f-94cc-ec702c2ba6c0",
   "metadata": {},
   "outputs": [],
   "source": [
    "# Load the data into DataFrames\n",
    "bankdf = spark.read.csv(\"Synthetic_kyc_data.csv\", header=True, inferSchema=True)\n",
    "dnbdf = spark.read.csv(\"dnb_third_party_synthetic_banking_kyc_data.csv\", header=True, inferSchema=True)\n",
    "faxdf = spark.read.csv(\"equifax_third_party_synthetic_banking_kyc_data.csv\", header=True, inferSchema=True)"
   ]
  },
  {
   "cell_type": "code",
   "execution_count": null,
   "id": "33e0c10b-0d51-445b-acf6-fcbc30ff6e9d",
   "metadata": {},
   "outputs": [],
   "source": [
    "new_column_names = [col.replace(\" \", \"_\") for col in bankdf.columns]\n",
    "bankdf = bankdf.toDF(*new_column_names)"
   ]
  },
  {
   "cell_type": "code",
   "execution_count": null,
   "id": "fc8c9226-062e-465c-8142-62b15497bf05",
   "metadata": {},
   "outputs": [],
   "source": [
    "new_column_names = [col.replace(\" \", \"_\") for col in dnbdf.columns]\n",
    "dnbdf = dnbdf.toDF(*new_column_names)"
   ]
  },
  {
   "cell_type": "code",
   "execution_count": null,
   "id": "fd2a5154-f4bc-425b-bd4d-ae2ea95bf4ca",
   "metadata": {},
   "outputs": [],
   "source": [
    "new_column_names = [col.replace(\" \", \"_\") for col in faxdf.columns]\n",
    "faxdf = faxdf.toDF(*new_column_names)"
   ]
  },
  {
   "cell_type": "code",
   "execution_count": null,
   "id": "84dfecd4-539a-4490-b38e-ba251c596f0c",
   "metadata": {},
   "outputs": [],
   "source": [
    "dnbdf = dnbdf.withColumn(\"Gender\", when(dnbdf[\"Gender\"] == \"Male\", \"M\").otherwise(dnbdf[\"Gender\"]))\n",
    "dnbdf = dnbdf.withColumn(\"Gender\", when(dnbdf[\"Gender\"] == \"Female\", \"F\").otherwise(dnbdf[\"Gender\"]))"
   ]
  },
  {
   "cell_type": "code",
   "execution_count": null,
   "id": "531fcf13-3d95-423d-a05e-c5c57f6c1e13",
   "metadata": {},
   "outputs": [],
   "source": [
    "dnbdf = dnbdf.withColumn(\"Blood_Group\", when(dnbdf[\"Blood_Group\"] == \"A Positive\", \"A+\").otherwise(dnbdf[\"Blood_Group\"]))\n",
    "dnbdf = dnbdf.withColumn(\"Blood_Group\", when(dnbdf[\"Blood_Group\"] == \"B Positive\", \"B+\").otherwise(dnbdf[\"Blood_Group\"]))\n",
    "dnbdf = dnbdf.withColumn(\"Blood_Group\", when(dnbdf[\"Blood_Group\"] == \"A Negative\", \"A-\").otherwise(dnbdf[\"Blood_Group\"]))\n",
    "dnbdf = dnbdf.withColumn(\"Blood_Group\", when(dnbdf[\"Blood_Group\"] == \"B Negative\", \"A+\").otherwise(dnbdf[\"Blood_Group\"]))"
   ]
  },
  {
   "cell_type": "code",
   "execution_count": null,
   "id": "35035825-e218-4d46-85df-14e69f676652",
   "metadata": {},
   "outputs": [],
   "source": [
    "def standardize_date(date_str):\n",
    "    if date_str is not None:\n",
    "        if len(date_str.split('-')[0]) == 2:\n",
    "            return '19' + date_str if int(date_str.split('-')[0]) >= 50 else '20' + date_str\n",
    "    return date_str\n",
    "\n",
    "from pyspark.sql.functions import udf\n",
    "from pyspark.sql.types import StringType\n",
    "\n",
    "standardize_date_udf = udf(standardize_date, StringType())\n",
    "\n",
    "# Apply the UDF and convert to date format\n",
    "dnbdf = dnbdf.withColumn(\"Date_of_Birth\", standardize_date_udf(\"Date_of_Birth\"))\n",
    "dnbdf = dnbdf.withColumn(\"Date_of_Birth\", to_date(dnbdf[\"Date_of_Birth\"], \"yyyy-MM-dd\"))"
   ]
  },
  {
   "cell_type": "code",
   "execution_count": null,
   "id": "743b6131-bfeb-4c5f-98cc-ff6a78ac09ad",
   "metadata": {},
   "outputs": [],
   "source": [
    "faxdf = faxdf.withColumn(\"Gender\", when(faxdf[\"Gender\"] == \"Male\", \"M\").otherwise(faxdf[\"Gender\"]))\n",
    "faxdf = faxdf.withColumn(\"Gender\", when(faxdf[\"Gender\"] == \"Female\", \"F\").otherwise(faxdf[\"Gender\"]))"
   ]
  },
  {
   "cell_type": "code",
   "execution_count": null,
   "id": "a17ba038-4c0e-4c67-a4fb-1175dff76687",
   "metadata": {},
   "outputs": [],
   "source": [
    "faxdf = faxdf.withColumn(\"Blood_Group\", when(faxdf[\"Blood_Group\"] == \"A Positive\", \"A+\").otherwise(faxdf[\"Blood_Group\"]))\n",
    "faxdf = faxdf.withColumn(\"Blood_Group\", when(faxdf[\"Blood_Group\"] == \"B Positive\", \"B+\").otherwise(faxdf[\"Blood_Group\"]))\n",
    "faxdf = faxdf.withColumn(\"Blood_Group\", when(faxdf[\"Blood_Group\"] == \"A Negative\", \"A-\").otherwise(faxdf[\"Blood_Group\"]))\n",
    "faxdf = faxdf.withColumn(\"Blood_Group\", when(faxdf[\"Blood_Group\"] == \"B Negative\", \"A+\").otherwise(faxdf[\"Blood_Group\"]))"
   ]
  },
  {
   "cell_type": "code",
   "execution_count": null,
   "id": "638f6ebc-27fc-4c9c-bf6b-1c5444520788",
   "metadata": {},
   "outputs": [],
   "source": [
    "faxdf = faxdf.withColumn(\"Date_of_Birth\", standardize_date_udf(\"Date_of_Birth\"))\n",
    "faxdf = faxdf.withColumn(\"Date_of_Birth\", to_date(faxdf[\"Date_of_Birth\"], \"yyyy-MM-dd\"))"
   ]
  },
  {
   "cell_type": "code",
   "execution_count": null,
   "id": "787d8039-8d74-44db-9c46-58731d76961c",
   "metadata": {},
   "outputs": [],
   "source": [
    "# Convert all columns to strings\n",
    "bankdf = bankdf.select([col(c).cast(StringType()).alias(c) for c in bankdf.columns])\n",
    "dnbdf = dnbdf.select([col(c).cast(StringType()).alias(c) for c in dnbdf.columns])\n",
    "faxdf = faxdf.select([col(c).cast(StringType()).alias(c) for c in faxdf.columns])"
   ]
  },
  {
   "cell_type": "code",
   "execution_count": null,
   "id": "34d5a95c-5cfc-42ec-9bed-47cf57609b3a",
   "metadata": {},
   "outputs": [],
   "source": [
    "bankdf_alias = bankdf.alias(\"bank\")\n",
    "dnbdf_alias = dnbdf.alias(\"dnb\")\n",
    "faxdf_alias = faxdf.alias(\"fax\")"
   ]
  },
  {
   "cell_type": "code",
   "execution_count": null,
   "id": "03209ce6-8250-4818-9f8b-36dc2c531a71",
   "metadata": {},
   "outputs": [],
   "source": [
    "joined_df1 = bankdf_alias.join(dnbdf_alias, on = \"Passport_Number\", how = \"outer\")\n",
    "joined_df2 = bankdf_alias.join(faxdf_alias, on = \"Passport_Number\", how = \"outer\")"
   ]
  },
  {
   "cell_type": "code",
   "execution_count": null,
   "id": "17b8cf68-9711-486d-a303-8f091892e70c",
   "metadata": {},
   "outputs": [],
   "source": [
    "def match_ratio(str1, str2):\n",
    "    return SequenceMatcher(None, str1, str2).ratio()\n",
    "match_ratio_udf = udf(match_ratio, FloatType())"
   ]
  },
  {
   "cell_type": "code",
   "execution_count": null,
   "id": "c30fbf7a-149d-44ff-868a-2d05b1b5d27c",
   "metadata": {},
   "outputs": [],
   "source": [
    "result_df1 = joined_df1.withColumn(\"Passport_Number MR\", match_ratio_udf(col(\"bank.Passport_Number\"),col(\"dnb.Passport_Number\"))) \\\n",
    ".withColumn(\"First_Name MR\", match_ratio_udf(col(\"bank.First_Name\"),col(\"dnb.First_Name\"))) \\\n",
    ".withColumn(\"Last_Name MR\", match_ratio_udf(col(\"bank.Last_Name\"),col(\"dnb.Last_Name\"))) \\\n",
    ".withColumn(\"Date_of_Birth MR\", match_ratio_udf(col(\"bank.Date_of_Birth\"),col(\"dnb.Date_of_Birth\"))) \\\n",
    ".withColumn(\"Blood_Group MR\", match_ratio_udf(col(\"bank.Blood_Group\"),col(\"dnb.Blood_Group\"))) \\\n",
    ".withColumn(\"Gender MR\", match_ratio_udf(col(\"bank.Gender\"),col(\"dnb.Gender\"))) \\\n",
    ".withColumn(\"Marital_Status MR\", match_ratio_udf(col(\"bank.Marital_Status\"),col(\"dnb.Marital_Status\"))) \\\n",
    ".withColumn(\"Education_Level MR\", match_ratio_udf(col(\"bank.Education_Level\"),col(\"dnb.Education_Level\"))) \\\n",
    ".withColumn(\"Adress MR\", match_ratio_udf(col(\"bank.Address\"),col(\"dnb.Address\"))) \\\n",
    ".withColumn(\"City MR\", match_ratio_udf(col(\"bank.City\"),col(\"dnb.City\"))) \\\n",
    ".withColumn(\"Postal_Code MR\", match_ratio_udf(col(\"bank.Postal_Code\"),col(\"dnb.Postal_Code\"))) \\\n",
    ".withColumn(\"Country MR\", match_ratio_udf(col(\"bank.Country\"),col(\"dnb.Country\"))) \\\n",
    ".withColumn(\"Country_Code MR\", match_ratio_udf(col(\"bank.Country_Code\"),col(\"dnb.Country_Code\"))) \\\n",
    ".withColumn(\"Phone_Number MR\", match_ratio_udf(col(\"bank.Phone_Number\"),col(\"dnb.Phone_Number\"))) \\\n",
    ".withColumn(\"Company_Name MR\", match_ratio_udf(col(\"bank.Company_Name\"),col(\"dnb.Company_Name\"))) \\\n",
    ".withColumn(\"Email MR\", match_ratio_udf(col(\"bank.Email\"),col(\"dnb.Email\")))"
   ]
  },
  {
   "cell_type": "code",
   "execution_count": null,
   "id": "a9b3d26f-c9dd-4865-b83d-f4b9634d1a91",
   "metadata": {},
   "outputs": [],
   "source": [
    "result_df2 = joined_df2.withColumn(\"Passport_Number MR\", match_ratio_udf(col(\"bank.Passport_Number\"),col(\"fax.Passport_Number\"))) \\\n",
    ".withColumn(\"First_Name MR\", match_ratio_udf(col(\"bank.First_Name\"),col(\"fax.First_Name\"))) \\\n",
    ".withColumn(\"Last_Name MR\", match_ratio_udf(col(\"bank.Last_Name\"),col(\"fax.Last_Name\"))) \\\n",
    ".withColumn(\"Date_of_Birth MR\", match_ratio_udf(col(\"bank.Date_of_Birth\"),col(\"fax.Date_of_Birth\"))) \\\n",
    ".withColumn(\"Blood_Group MR\", match_ratio_udf(col(\"bank.Blood_Group\"),col(\"fax.Blood_Group\"))) \\\n",
    ".withColumn(\"Gender MR\", match_ratio_udf(col(\"bank.Gender\"),col(\"fax.Gender\"))) \\\n",
    ".withColumn(\"Marital_Status MR\", match_ratio_udf(col(\"bank.Marital_Status\"),col(\"fax.Marital_Status\"))) \\\n",
    ".withColumn(\"Education_Level MR\", match_ratio_udf(col(\"bank.Education_Level\"),col(\"fax.Education_Level\"))) \\\n",
    ".withColumn(\"Adress MR\", match_ratio_udf(col(\"bank.Address\"),col(\"fax.Address\"))) \\\n",
    ".withColumn(\"City MR\", match_ratio_udf(col(\"bank.City\"),col(\"fax.City\"))) \\\n",
    ".withColumn(\"Postal_Code MR\", match_ratio_udf(col(\"bank.Postal_Code\"),col(\"fax.Postal_Code\"))) \\\n",
    ".withColumn(\"Country MR\", match_ratio_udf(col(\"bank.Country\"),col(\"fax.Country\"))) \\\n",
    ".withColumn(\"Country_Code MR\", match_ratio_udf(col(\"bank.Country_Code\"),col(\"fax.Country_Code\"))) \\\n",
    ".withColumn(\"Phone_Number MR\", match_ratio_udf(col(\"bank.Phone_Number\"),col(\"fax.Phone_Number\"))) \\\n",
    ".withColumn(\"Company_Name MR\", match_ratio_udf(col(\"bank.Company_Name\"),col(\"fax.Company_Name\"))) \\\n",
    ".withColumn(\"Email MR\", match_ratio_udf(col(\"bank.Email\"),col(\"fax.Email\")))"
   ]
  },
  {
   "cell_type": "code",
   "execution_count": null,
   "id": "dc76f435-f513-49ed-8236-72fbcca7c3b6",
   "metadata": {},
   "outputs": [],
   "source": [
    "overallmatch_df1 = result_df1.select(avg(col(\"Passport_Number MR\")*100).alias(\"Percentage Passport_Number\"),\n",
    "                                     avg(col(\"First_Name MR\")*100).alias(\"Percentage First_Name\"),\n",
    "                                     avg(col(\"Last_Name MR\")*100).alias(\"Percentage Last_Name MR\"),\n",
    "                                     avg(col(\"Date_of_Birth MR\")*100).alias(\"Percentage Date_of_Birth MR\"),\n",
    "                                     avg(col(\"Blood_Group MR\")*100).alias(\"Percentage Blood_Group MR\"),\n",
    "                                     avg(col(\"Gender MR\")*100).alias(\"Percentage Gender MR\"),\n",
    "                                     avg(col(\"Marital_Status MR\")*100).alias(\"Percentage Marital_Status MR\"),\n",
    "                                     avg(col(\"Education_Level MR\")*100).alias(\"Percentage Education_Level MR\"),\n",
    "                                     avg(col(\"Adress MR\")*100).alias(\"Percentage Adress MR\"),\n",
    "                                     avg(col(\"City MR\")*100).alias(\"Percentage City MR\"),\n",
    "                                     avg(col(\"Postal_Code MR\")*100).alias(\"Percentage Postal_Code MR\"),\n",
    "                                     avg(col(\"Country MR\")*100).alias(\"Percentage Country MR\"),\n",
    "                                     avg(col(\"Country_Code MR\")*100).alias(\"Percentage Country_Code MR\"),\n",
    "                                     avg(col(\"Phone_Number MR\")*100).alias(\"Percentage Phone_Number MR\"),\n",
    "                                     avg(col(\"Company_Name MR\")*100).alias(\"Percentage Company_Name MR\"),\n",
    "                                     avg(col(\"Email MR\")*100).alias(\"Percentage Email MR\"))"
   ]
  },
  {
   "cell_type": "code",
   "execution_count": null,
   "id": "fdbe46cb-2e8c-4d60-b707-f163b507e904",
   "metadata": {},
   "outputs": [],
   "source": [
    "overallmatch_df2 = result_df2.select(avg(col(\"Passport_Number MR\")*100).alias(\"Percentage Passport_Number\"),\n",
    "                                     avg(col(\"First_Name MR\")*100).alias(\"Percentage First_Name\"),\n",
    "                                     avg(col(\"Last_Name MR\")*100).alias(\"Percentage Last_Name MR\"),\n",
    "                                     avg(col(\"Date_of_Birth MR\")*100).alias(\"Percentage Date_of_Birth MR\"),\n",
    "                                     avg(col(\"Blood_Group MR\")*100).alias(\"Percentage Blood_Group MR\"),\n",
    "                                     avg(col(\"Gender MR\")*100).alias(\"Percentage Gender MR\"),\n",
    "                                     avg(col(\"Marital_Status MR\")*100).alias(\"Percentage Marital_Status MR\"),\n",
    "                                     avg(col(\"Education_Level MR\")*100).alias(\"Percentage Education_Level MR\"),\n",
    "                                     avg(col(\"Adress MR\")*100).alias(\"Percentage Adress MR\"),\n",
    "                                     avg(col(\"City MR\")*100).alias(\"Percentage City MR\"),\n",
    "                                     avg(col(\"Postal_Code MR\")*100).alias(\"Percentage Postal_Code MR\"),\n",
    "                                     avg(col(\"Country MR\")*100).alias(\"Percentage Country MR\"),\n",
    "                                     avg(col(\"Country_Code MR\")*100).alias(\"Percentage Country_Code MR\"),\n",
    "                                     avg(col(\"Phone_Number MR\")*100).alias(\"Percentage Phone_Number MR\"),\n",
    "                                     avg(col(\"Company_Name MR\")*100).alias(\"Percentage Company_Name MR\"),\n",
    "                                     avg(col(\"Email MR\")*100).alias(\"Percentage Email MR\"))"
   ]
  },
  {
   "cell_type": "code",
   "execution_count": null,
   "id": "bfdc19c6-505f-41a8-94d0-e0b460096d0a",
   "metadata": {},
   "outputs": [],
   "source": [
    "# Collect results as dictionaries\n",
    "overall_match_df1 = overallmatch_df1.collect()[0].asDict()\n",
    "overall_match_df2 = overallmatch_df2.collect()[0].asDict()\n",
    "\n",
    "# Print overall matching percentages\n",
    "print(\"Overall Matching Percentages for dnb:\")\n",
    "for key, value in overall_match_df1.items():\n",
    "    print(f\"{key}: {value}%\")\n",
    "\n",
    "print(\"\\nOverall Matching Percentages for fax:\")\n",
    "for key, value in overall_match_df2.items():\n",
    "    print(f\"{key}: {value}%\")\n",
    "\n",
    "# Compare overall matching percentages\n",
    "recommendation = {}\n",
    "for attribute in overall_match_df1.keys():\n",
    "    if overall_match_df1[attribute] >= overall_match_df2[attribute]:\n",
    "        recommendation[attribute] = \"Source 1\"\n",
    "    else:\n",
    "        recommendation[attribute] = \"Source 2\"\n",
    "\n",
    "# Print recommendation\n",
    "print(\"\\nRecommended Source for Each Attribute:\")\n",
    "for attribute, source in recommendation.items():\n",
    "    print(f\"{attribute}: {source}\")"
   ]
  },
  {
   "cell_type": "code",
   "execution_count": 39,
   "id": "08273a77-257b-4bca-b76b-e474af4977a3",
   "metadata": {},
   "outputs": [],
   "source": [
    "spark.stop()"
   ]
  },
  {
   "cell_type": "code",
   "execution_count": null,
   "id": "1b281310-1369-4e31-81c8-000318602fc3",
   "metadata": {},
   "outputs": [],
   "source": [
    "spark"
   ]
  }
 ],
 "metadata": {
  "kernelspec": {
   "display_name": "Python 3 (ipykernel)",
   "language": "python",
   "name": "python3"
  },
  "language_info": {
   "codemirror_mode": {
    "name": "ipython",
    "version": 3
   },
   "file_extension": ".py",
   "mimetype": "text/x-python",
   "name": "python",
   "nbconvert_exporter": "python",
   "pygments_lexer": "ipython3",
   "version": "3.12.3"
  }
 },
 "nbformat": 4,
 "nbformat_minor": 5
}
